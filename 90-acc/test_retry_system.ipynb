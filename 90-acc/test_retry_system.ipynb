{
 "cells": [
  {
   "cell_type": "code",
   "execution_count": 14,
   "metadata": {},
   "outputs": [
    {
     "name": "stdout",
     "output_type": "stream",
     "text": [
      "hello world\n",
      "hello world\n",
      "hello world\n",
      "3\n"
     ]
    }
   ],
   "source": [
    "def func():\n",
    "    print('hello world')\n",
    "    print(1/0)\n",
    "    return \n",
    "\n",
    "iter = 0\n",
    "while iter < 3:\n",
    "    try:\n",
    "        func()\n",
    "        break\n",
    "    except ZeroDivisionError:\n",
    "        iter += 1\n",
    "        continue\n",
    "    except:\n",
    "        raise\n",
    "print(iter)  "
   ]
  },
  {
   "cell_type": "code",
   "execution_count": 12,
   "metadata": {},
   "outputs": [
    {
     "name": "stdout",
     "output_type": "stream",
     "text": [
      "hello world: 1\n"
     ]
    }
   ],
   "source": [
    "def func2(input):\n",
    "    print('hello world: {}'.format(input))\n",
    "    return \n",
    "\n",
    "eval('func2')(1)\n"
   ]
  },
  {
   "cell_type": "code",
   "execution_count": 15,
   "metadata": {},
   "outputs": [
    {
     "name": "stdout",
     "output_type": "stream",
     "text": [
      "hello world: 2\n"
     ]
    }
   ],
   "source": [
    "def func3(input):\n",
    "    print('hello world: {}'.format(input))\n",
    "    return input + 1\n",
    "\n",
    "var = func3\n",
    "var(2)"
   ]
  },
  {
   "cell_type": "code",
   "execution_count": 19,
   "metadata": {},
   "outputs": [
    {
     "name": "stdout",
     "output_type": "stream",
     "text": [
      "hello world: 1\n",
      "hello world: 1\n",
      "2\n"
     ]
    }
   ],
   "source": [
    "def func4(input):\n",
    "    print('hello world: {}'.format(input))\n",
    "    return input + 1\n",
    "\n",
    "def doItTwice(func_name,*args):\n",
    "    for i in range(2):\n",
    "        resp=func_name(*args)\n",
    "    return resp\n",
    "\n",
    "var = func4\n",
    "resp=doItTwice(var,1)\n",
    "print(resp)"
   ]
  },
  {
   "cell_type": "code",
   "execution_count": 21,
   "metadata": {},
   "outputs": [
    {
     "name": "stdout",
     "output_type": "stream",
     "text": [
      "hello world: 3\n",
      "hello world: 3\n",
      "4\n"
     ]
    }
   ],
   "source": [
    "def func4(in1,in2):\n",
    "    print('hello world: {}'.format(in1+in2))\n",
    "    return in1+in2+1\n",
    "\n",
    "def doItTwice(func_name,*args):\n",
    "    for i in range(2):\n",
    "        resp=func_name(*args)\n",
    "    return resp\n",
    "\n",
    "var = func4\n",
    "resp=doItTwice(var,1,2)\n",
    "print(resp)"
   ]
  },
  {
   "cell_type": "code",
   "execution_count": 22,
   "metadata": {},
   "outputs": [
    {
     "data": {
      "text/plain": [
       "False"
      ]
     },
     "execution_count": 22,
     "metadata": {},
     "output_type": "execute_result"
    }
   ],
   "source": [
    "0 == None"
   ]
  }
 ],
 "metadata": {
  "kernelspec": {
   "display_name": "Python 3",
   "language": "python",
   "name": "python3"
  },
  "language_info": {
   "codemirror_mode": {
    "name": "ipython",
    "version": 3
   },
   "file_extension": ".py",
   "mimetype": "text/x-python",
   "name": "python",
   "nbconvert_exporter": "python",
   "pygments_lexer": "ipython3",
   "version": "3.6.9"
  }
 },
 "nbformat": 4,
 "nbformat_minor": 2
}
